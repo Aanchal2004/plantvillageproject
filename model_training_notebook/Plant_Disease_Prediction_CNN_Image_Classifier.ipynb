{
 "nbformat": 4,
 "nbformat_minor": 0,
 "metadata": {
  "colab": {
   "provenance": [],
   "gpuType": "T4"
  },
  "kernelspec": {
   "name": "python3",
   "display_name": "Python 3"
  },
  "language_info": {
   "name": "python"
  },
  "accelerator": "GPU"
 },
 "cells": [
  {
   "cell_type": "markdown",
   "source": [
    "**Seeding for reproducibility**"
   ],
   "metadata": {
    "id": "c8VSns6fO6Pg"
   }
  },
  {
   "cell_type": "code",
   "source": [
    "# Set seeds for reproducibility\n",
    "import random\n",
    "random.seed(0)\n",
    "\n",
    "import numpy as np\n",
    "np.random.seed(0)\n",
    "\n",
    "import tensorflow as tf\n",
    "tf.random.set_seed(0)"
   ],
   "metadata": {
    "id": "JSu8kpnEHDPB"
   },
   "execution_count": 1,
   "outputs": []
  },
  {
   "cell_type": "markdown",
   "source": [
    "**Importing the dependencies**"
   ],
   "metadata": {
    "id": "Eyqk5_8AO1Kr"
   }
  },
  {
   "cell_type": "code",
   "source": [
    "import os\n",
    "import json\n",
    "from zipfile import ZipFile\n",
    "from PIL import Image\n",
    "\n",
    "import numpy as np\n",
    "import matplotlib.pyplot as plt\n",
    "import matplotlib.image as mpimg\n",
    "from tensorflow.keras.preprocessing.image import ImageDataGenerator\n",
    "from tensorflow.keras import layers, models"
   ],
   "metadata": {
    "id": "16dILovOOFy0"
   },
   "execution_count": 2,
   "outputs": []
  },
  {
   "cell_type": "markdown",
   "source": [
    "**Data Curation**"
   ],
   "metadata": {
    "id": "7gAnTOlEPR8a"
   }
  },
  {
   "cell_type": "markdown",
   "source": [
    "Upload the kaggle.json file"
   ],
   "metadata": {
    "id": "GT4tQUqBs90l"
   }
  },
  {
   "cell_type": "code",
   "source": [
    "!pip install kaggle"
   ],
   "metadata": {
    "id": "FKWvyGVDtALx",
    "colab": {
     "base_uri": "https://localhost:8080/"
    },
    "outputId": "f565ec66-6b79-4d7f-ce6f-ecb12f388e37"
   },
   "execution_count": 3,
   "outputs": []
  },
  {
   "cell_type": "code",
   "source": [
    "kaggle_credentails = json.load(open(\"kaggle.json\"))"
   ],
   "metadata": {
    "id": "ZM5gnAAVtH0s"
   },
   "execution_count": 4,
   "outputs": []
  },
  {
   "cell_type": "code",
   "source": [
    "# setup Kaggle API key as environment variables\n",
    "os.environ['KAGGLE_USERNAME'] = kaggle_credentails[\"username\"]\n",
    "os.environ['KAGGLE_KEY'] = kaggle_credentails[\"key\"]"
   ],
   "metadata": {
    "id": "xWS6H5mPtNa_"
   },
   "execution_count": 5,
   "outputs": []
  },
  {
   "cell_type": "code",
   "source": [
    "!kaggle datasets download -d abdallahalidev/plantvillage-dataset"
   ],
   "metadata": {
    "id": "ypPVDLobtUr5",
    "colab": {
     "base_uri": "https://localhost:8080/"
    },
    "outputId": "53a70f81-a8ed-4287-f1f5-678b465142d0"
   },
   "execution_count": 6,
   "outputs": []
  },
  {
   "cell_type": "code",
   "source": [
    "!ls"
   ],
   "metadata": {
    "id": "20t7J2zctdou",
    "colab": {
     "base_uri": "https://localhost:8080/"
    },
    "outputId": "71e8ea49-eac0-4f1f-b13c-f59595733d41"
   },
   "execution_count": 7,
   "outputs": []
  },
  {
   "cell_type": "code",
   "source": [
    "# Unzip the downloaded dataset\n",
    "with ZipFile(\"plantvillage-dataset.zip\", 'r') as zip_ref:\n",
    "    zip_ref.extractall()"
   ],
   "metadata": {
    "id": "cjVbT1ZItYe2"
   },
   "execution_count": 8,
   "outputs": []
  },
  {
   "cell_type": "code",
   "source": [
    "print(os.listdir(\"plantvillage dataset\"))\n",
    "\n",
    "\n",
    "print(len(os.listdir(\"plantvillage dataset/segmented\")))\n",
    "print(os.listdir(\"plantvillage dataset/segmented\")[:5])\n",
    "\n",
    "print(len(os.listdir(\"plantvillage dataset/color\")))\n",
    "print(os.listdir(\"plantvillage dataset/color\")[:5])\n",
    "\n",
    "print(len(os.listdir(\"plantvillage dataset/grayscale\")))\n",
    "print(os.listdir(\"plantvillage dataset/grayscale\")[:5])"
   ],
   "metadata": {
    "id": "A_5Oa9WPtfXr",
    "colab": {
     "base_uri": "https://localhost:8080/"
    },
    "outputId": "79a1b2c7-ca9c-4a89-febe-17abc7f399d3"
   },
   "execution_count": 10,
   "outputs": []
  },
  {
   "cell_type": "markdown",
   "source": [
    "**Number of Classes = 38**"
   ],
   "metadata": {
    "id": "snyC_-2jt0z3"
   }
  },
  {
   "cell_type": "code",
   "source": [
    "print(len(os.listdir(\"plantvillage dataset/color/Grape___healthy\")))\n",
    "print(os.listdir(\"plantvillage dataset/color/Grape___healthy\")[:5])"
   ],
   "metadata": {
    "id": "CFR52Pk6tp2U",
    "colab": {
     "base_uri": "https://localhost:8080/"
    },
    "outputId": "4917ce76-17f2-4103-85ca-14d2af84dc06"
   },
   "execution_count": 11,
   "outputs": []
  },
  {
   "cell_type": "markdown",
   "source": [
    "**Data Preprocessing**"
   ],
   "metadata": {
    "id": "JhEi6mbpt4aD"
   }
  },
  {
   "cell_type": "code",
   "source": [
    "# Dataset Path\n",
    "base_dir = 'plantvillage dataset/color'"
   ],
   "metadata": {
    "id": "WlqvsdtBttrh"
   },
   "execution_count": 12,
   "outputs": []
  },
  {
   "cell_type": "code",
   "source": [
    "image_path = '/content/plantvillage dataset/color/Apple___Cedar_apple_rust/025b2b9a-0ec4-4132-96ac-7f2832d0db4a___FREC_C.Rust 3655.JPG'\n",
    "\n",
    "# Read the image\n",
    "img = mpimg.imread(image_path)\n",
    "\n",
    "print(img.shape)\n",
    "# Display the image\n",
    "plt.imshow(img)\n",
    "plt.axis('off')  # Turn off axis numbers\n",
    "plt.show()"
   ],
   "metadata": {
    "id": "XQxHLLbKt6oF",
    "colab": {
     "base_uri": "https://localhost:8080/",
     "height": 424
    },
    "outputId": "960d3327-8801-4a10-e6c5-f5551337a781"
   },
   "execution_count": 13,
   "outputs": []
  },
  {
   "cell_type": "code",
   "source": [
    "image_path = '/content/plantvillage dataset/color/Apple___Cedar_apple_rust/025b2b9a-0ec4-4132-96ac-7f2832d0db4a___FREC_C.Rust 3655.JPG'\n",
    "\n",
    "# Read the image\n",
    "img = mpimg.imread(image_path)\n",
    "\n",
    "print(img)"
   ],
   "metadata": {
    "colab": {
     "base_uri": "https://localhost:8080/"
    },
    "id": "YVgo1I9sDP6B",
    "outputId": "302d2d4b-6f7c-4ddf-ab9e-a9d6bd738b7e"
   },
   "execution_count": 14,
   "outputs": []
  },
  {
   "cell_type": "code",
   "source": [
    "# Image Parameters\n",
    "img_size = 224\n",
    "batch_size = 32"
   ],
   "metadata": {
    "id": "w6S1jYo0u5o-"
   },
   "execution_count": 15,
   "outputs": []
  },
  {
   "cell_type": "markdown",
   "source": [
    "**Train Test Split**"
   ],
   "metadata": {
    "id": "Lcovy3vxvf31"
   }
  },
  {
   "cell_type": "code",
   "source": [
    "# Image Data Generators\n",
    "data_gen = ImageDataGenerator(\n",
    "    rescale=1./255,\n",
    "    validation_split=0.2  # Use 20% of data for validation\n",
    ")"
   ],
   "metadata": {
    "id": "zoJjajTcvTae"
   },
   "execution_count": 16,
   "outputs": []
  },
  {
   "cell_type": "code",
   "source": [
    "# Train Generator\n",
    "train_generator = data_gen.flow_from_directory(\n",
    "    base_dir,\n",
    "    target_size=(img_size, img_size),\n",
    "    batch_size=batch_size,\n",
    "    subset='training',\n",
    "    class_mode='categorical'\n",
    ")"
   ],
   "metadata": {
    "id": "pnwsA5IPvWNG",
    "colab": {
     "base_uri": "https://localhost:8080/"
    },
    "outputId": "be155ed6-aa77-4f28-c202-94fba6ea59bd"
   },
   "execution_count": 17,
   "outputs": []
  },
  {
   "cell_type": "code",
   "source": [
    "# Validation Generator\n",
    "validation_generator = data_gen.flow_from_directory(\n",
    "    base_dir,\n",
    "    target_size=(img_size, img_size),\n",
    "    batch_size=batch_size,\n",
    "    subset='validation',\n",
    "    class_mode='categorical'\n",
    ")"
   ],
   "metadata": {
    "id": "RtxNLvmbvYNX",
    "colab": {
     "base_uri": "https://localhost:8080/"
    },
    "outputId": "a60d0b2a-bba4-4595-d5e1-e9f6978ddbab"
   },
   "execution_count": 18,
   "outputs": []
  },
  {
   "cell_type": "markdown",
   "source": [
    "**Convolutional Neural Network**"
   ],
   "metadata": {
    "id": "fE4vUKMkviT8"
   }
  },
  {
   "cell_type": "code",
   "source": [
    "# Model Definition\n",
    "model = models.Sequential()\n",
    "\n",
    "model.add(layers.Conv2D(32, (3, 3), activation='relu', input_shape=(img_size, img_size, 3)))\n",
    "model.add(layers.MaxPooling2D(2, 2))\n",
    "\n",
    "model.add(layers.Conv2D(64, (3, 3), activation='relu'))\n",
    "model.add(layers.MaxPooling2D(2, 2))\n",
    "\n",
    "\n",
    "model.add(layers.Flatten())\n",
    "model.add(layers.Dense(256, activation='relu'))\n",
    "model.add(layers.Dense(train_generator.num_classes, activation='softmax'))"
   ],
   "metadata": {
    "id": "VUsvwveevZ-m"
   },
   "execution_count": 20,
   "outputs": []
  },
  {
   "cell_type": "code",
   "source": [
    "# model summary\n",
    "model.summary()"
   ],
   "metadata": {
    "id": "T9qJo-GSvoIB",
    "colab": {
     "base_uri": "https://localhost:8080/"
    },
    "outputId": "56ed059c-85f2-4490-8dfc-63e25516d2ea"
   },
   "execution_count": 21,
   "outputs": []
  },
  {
   "cell_type": "code",
   "source": [
    "# Compile the Model\n",
    "model.compile(optimizer='adam',\n",
    "              loss='categorical_crossentropy',\n",
    "              metrics=['accuracy'])"
   ],
   "metadata": {
    "id": "PKi-ot0xvpC8"
   },
   "execution_count": 22,
   "outputs": []
  },
  {
   "cell_type": "markdown",
   "source": [
    "**Model training**"
   ],
   "metadata": {
    "id": "dCBezWyLv1hF"
   }
  },
  {
   "cell_type": "code",
   "source": [
    "# Training the Model\n",
    "history = model.fit(\n",
    "    train_generator,\n",
    "    steps_per_epoch=train_generator.samples // batch_size,  # Number of steps per epoch\n",
    "    epochs=5,  # Number of epochs\n",
    "    validation_data=validation_generator,\n",
    "    validation_steps=validation_generator.samples // batch_size  # Validation steps\n",
    ")"
   ],
   "metadata": {
    "id": "bSvHhJqevyjE",
    "colab": {
     "base_uri": "https://localhost:8080/"
    },
    "outputId": "51052757-e403-4ed0-87b0-42ff1ff6451b"
   },
   "execution_count": 23,
   "outputs": []
  },
  {
   "cell_type": "markdown",
   "source": [
    "**Model Evaluation**"
   ],
   "metadata": {
    "id": "RjQfNu7QwZjw"
   }
  },
  {
   "cell_type": "code",
   "source": [
    "# Model Evaluation\n",
    "print(\"Evaluating model...\")\n",
    "val_loss, val_accuracy = model.evaluate(validation_generator, steps=validation_generator.samples // batch_size)\n",
    "print(f\"Validation Accuracy: {val_accuracy * 100:.2f}%\")"
   ],
   "metadata": {
    "id": "q9SRLiOMv3qm",
    "colab": {
     "base_uri": "https://localhost:8080/"
    },
    "outputId": "c5680df7-67df-41c9-84c7-bee0b17b7f0c"
   },
   "execution_count": 24,
   "outputs": []
  },
  {
   "cell_type": "code",
   "source": [
    "# Plot training & validation accuracy values\n",
    "plt.plot(history.history['accuracy'])\n",
    "plt.plot(history.history['val_accuracy'])\n",
    "plt.title('Model accuracy')\n",
    "plt.ylabel('Accuracy')\n",
    "plt.xlabel('Epoch')\n",
    "plt.legend(['Train', 'Test'], loc='upper left')\n",
    "plt.show()\n",
    "\n",
    "# Plot training & validation loss values\n",
    "plt.plot(history.history['loss'])\n",
    "plt.plot(history.history['val_loss'])\n",
    "plt.title('Model loss')\n",
    "plt.ylabel('Loss')\n",
    "plt.xlabel('Epoch')\n",
    "plt.legend(['Train', 'Test'], loc='upper left')\n",
    "plt.show()"
   ],
   "metadata": {
    "id": "ZxP07UNywYPj",
    "colab": {
     "base_uri": "https://localhost:8080/",
     "height": 927
    },
    "outputId": "228b5e7e-2a21-4cbb-931f-55708ed0cc34"
   },
   "execution_count": 25,
   "outputs": []
  },
  {
   "cell_type": "markdown",
   "source": [
    "**Building a Predictive System**"
   ],
   "metadata": {
    "id": "zIeDSJa5xkpy"
   }
  },
  {
   "cell_type": "code",
   "source": [
    "# Function to Load and Preprocess the Image using Pillow\n",
    "def load_and_preprocess_image(image_path, target_size=(224, 224)):\n",
    "    # Load the image\n",
    "    img = Image.open(image_path)\n",
    "    # Resize the image\n",
    "    img = img.resize(target_size)\n",
    "    # Convert the image to a numpy array\n",
    "    img_array = np.array(img)\n",
    "    # Add batch dimension\n",
    "    img_array = np.expand_dims(img_array, axis=0)\n",
    "    # Scale the image values to [0, 1]\n",
    "    img_array = img_array.astype('float32') / 255.\n",
    "    return img_array\n",
    "\n",
    "# Function to Predict the Class of an Image\n",
    "def predict_image_class(model, image_path, class_indices):\n",
    "    preprocessed_img = load_and_preprocess_image(image_path)\n",
    "    predictions = model.predict(preprocessed_img)\n",
    "    predicted_class_index = np.argmax(predictions, axis=1)[0]\n",
    "    predicted_class_name = class_indices[predicted_class_index]\n",
    "    return predicted_class_name"
   ],
   "metadata": {
    "id": "0onhRrVkv9-M"
   },
   "execution_count": 26,
   "outputs": []
  },
  {
   "cell_type": "code",
   "source": [
    "# Create a mapping from class indices to class names\n",
    "class_indices = {v: k for k, v in train_generator.class_indices.items()}"
   ],
   "metadata": {
    "id": "YZkE2k6gwgOR"
   },
   "execution_count": 27,
   "outputs": []
  },
  {
   "cell_type": "code",
   "source": [
    "class_indices"
   ],
   "metadata": {
    "id": "3dja767dwzFH",
    "colab": {
     "base_uri": "https://localhost:8080/"
    },
    "outputId": "d0344da3-a583-459c-94dc-d63027b1f4a5"
   },
   "execution_count": 28,
   "outputs": []
  },
  {
   "cell_type": "code",
   "source": [
    "# saving the class names as json file\n",
    "json.dump(class_indices, open('class_indices.json', 'w'))"
   ],
   "metadata": {
    "id": "StM3_I3UwjFV"
   },
   "execution_count": 29,
   "outputs": []
  },
  {
   "cell_type": "code",
   "source": [
    "# Example Usage\n",
    "image_path = '/content/test_apple_black_rot.JPG'\n",
    "#image_path = '/content/test_blueberry_healthy.jpg'\n",
    "#image_path = '/content/test_potato_early_blight.jpg'\n",
    "predicted_class_name = predict_image_class(model, image_path, class_indices)\n",
    "\n",
    "# Output the result\n",
    "print(\"Predicted Class Name:\", predicted_class_name)"
   ],
   "metadata": {
    "id": "kJb9gQGRw2Ln",
    "colab": {
     "base_uri": "https://localhost:8080/"
    },
    "outputId": "f329cc1c-2945-416a-f42d-174a433ff60c"
   },
   "execution_count": 31,
   "outputs": []
  },
  {
   "cell_type": "markdown",
   "source": [
    "**Save the model to Google drive or local**"
   ],
   "metadata": {
    "id": "QBkknsKMyDbs"
   }
  },
  {
   "cell_type": "code",
   "source": [
    "model.save('drive/MyDrive/Youtube/trained_models/plant_disease_prediction_model.h5')"
   ],
   "metadata": {
    "id": "OfoTNemcxjk5"
   },
   "execution_count": null,
   "outputs": []
  },
  {
   "cell_type": "code",
   "source": [
    "model.save('plant_disease_prediction_model.h5')"
   ],
   "metadata": {
    "id": "J8ByAMH6ykbN",
    "colab": {
     "base_uri": "https://localhost:8080/"
    },
    "outputId": "8836c7a9-6d35-421f-b36c-f6fb50fd5cf7"
   },
   "execution_count": 32,
   "outputs": []
  },
  {
   "cell_type": "code",
   "source": [],
   "metadata": {
    "id": "ln01Rmj0L8Hg"
   },
   "execution_count": null,
   "outputs": []
  }
 ]
}
